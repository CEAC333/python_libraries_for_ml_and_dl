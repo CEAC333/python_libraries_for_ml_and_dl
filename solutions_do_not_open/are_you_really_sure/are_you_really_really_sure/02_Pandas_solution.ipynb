{
 "cells": [
  {
   "cell_type": "markdown",
   "metadata": {},
   "source": [
    "# Pandas\n",
    "\n",
    "See: http://pandas.pydata.org/\n",
    "\n",
    "*Author: Francesco Mosconi*\n",
    "\n",
    "*Copyright &copy; 2017 CATALIT LLC*"
   ]
  },
  {
   "cell_type": "code",
   "execution_count": null,
   "metadata": {
    "collapsed": true
   },
   "outputs": [],
   "source": [
    "import pandas as pd\n",
    "import numpy as np\n",
    "%matplotlib inline\n",
    "import matplotlib.pyplot as plt"
   ]
  },
  {
   "cell_type": "code",
   "execution_count": null,
   "metadata": {
    "collapsed": true
   },
   "outputs": [],
   "source": [
    "df = pd.read_csv('../../../data/iris-2-classes.csv')"
   ]
  },
  {
   "cell_type": "markdown",
   "metadata": {},
   "source": [
    "## Exercise\n",
    "\n",
    "- Add a new boolean column called `target` such that it's 0 if the record is `versicolor` and 1 if the record is `virginica`\n",
    "- Create 2 new DataFrames `X` and `y` that contain the 4 features and the target respectively\n",
    "- Save the `X` and `y` in `.csv` format without an index\n",
    "\n",
    "- Visit: http://pandas.pydata.org/pandas-docs/stable/10min.html if you need help\n"
   ]
  },
  {
   "cell_type": "code",
   "execution_count": null,
   "metadata": {
    "collapsed": true
   },
   "outputs": [],
   "source": [
    "label_dict = {'versicolor': 0, 'virginica': 1}\n",
    "\n",
    "df['target'] = df['iris_type'].map(label_dict)\n",
    "\n",
    "X = df[['sepal_length_cm', 'sepal_width_cm',\n",
    "        'petal_length_cm', 'petal_width_cm']]\n",
    "y = df['target']"
   ]
  },
  {
   "cell_type": "code",
   "execution_count": null,
   "metadata": {
    "collapsed": true
   },
   "outputs": [],
   "source": [
    "X.to_csv('X.csv', index=False)\n",
    "y.to_csv('y.csv', index=False)"
   ]
  },
  {
   "cell_type": "code",
   "execution_count": null,
   "metadata": {
    "collapsed": true
   },
   "outputs": [],
   "source": []
  }
 ],
 "metadata": {
  "kernelspec": {
   "display_name": "Python 3",
   "language": "python",
   "name": "python3"
  },
  "language_info": {
   "codemirror_mode": {
    "name": "ipython",
    "version": 3
   },
   "file_extension": ".py",
   "mimetype": "text/x-python",
   "name": "python",
   "nbconvert_exporter": "python",
   "pygments_lexer": "ipython3",
   "version": "3.5.3"
  }
 },
 "nbformat": 4,
 "nbformat_minor": 2
}
