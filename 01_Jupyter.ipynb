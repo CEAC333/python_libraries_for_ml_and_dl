{
 "cells": [
  {
   "cell_type": "markdown",
   "metadata": {},
   "source": [
    "# Jupyter notebook\n",
    "\n",
    "See: http://jupyter.org/\n",
    "\n",
    "*Author: Francesco Mosconi*\n",
    "\n",
    "*Copyright &copy; 2017 CATALIT LLC*"
   ]
  },
  {
   "cell_type": "markdown",
   "metadata": {},
   "source": [
    "## Cells\n",
    "\n",
    "Text and `code` are organized in \"cells\".\n",
    "\n",
    "1. Try to edit the text in this cell: click on it with your mouse and and press `ENTER`\n",
    "2. When done press `Ctrl-ENTER` to render the markdown."
   ]
  },
  {
   "cell_type": "markdown",
   "metadata": {},
   "source": [
    "## Command Mode\n",
    "\n",
    "The `ESC` key enables the Command Mode. Try it. You'll see the **border** of the notebook change to **blue**.\n",
    "\n",
    "In Command Mode you can press `H` to access the help dialog with all the keyboard shortcuts.\n",
    "\n",
    "Here are a few commands to try:\n",
    "\n",
    "- H: help\n",
    "- A: insert cell above\n",
    "- B: insert cell below\n",
    "- DD: delete cell\n",
    "- Z: undo the last action"
   ]
  },
  {
   "cell_type": "markdown",
   "metadata": {},
   "source": [
    "## Code\n",
    "Cells can be text or code. The next cell is code. Try running it `Shift-ENTER`"
   ]
  },
  {
   "cell_type": "code",
   "execution_count": null,
   "metadata": {
    "collapsed": true
   },
   "outputs": [],
   "source": [
    "2 + 2"
   ]
  },
  {
   "cell_type": "markdown",
   "metadata": {},
   "source": [
    "Notice that the number of `In [ ]` and `Out[ ]` gets updated."
   ]
  },
  {
   "cell_type": "markdown",
   "metadata": {},
   "source": [
    "## Exercise:\n",
    "\n",
    "- Open the help and look for the the commands to convert a code cell to Markdown.\n",
    "- Convert the next cell to a code cell so that it throws an error\n",
    "- Convert it back to Markdown\n",
    "- Read about the use of `Tab` and `Shift+Tab` in the help"
   ]
  },
  {
   "cell_type": "markdown",
   "metadata": {
    "collapsed": true
   },
   "source": [
    "-----\n",
    "\n",
    "Try converting this cell to code and execute it. It will raise an exception when evaluated.\n",
    "\n",
    "-----"
   ]
  },
  {
   "cell_type": "code",
   "execution_count": null,
   "metadata": {
    "collapsed": true
   },
   "outputs": [],
   "source": []
  }
 ],
 "metadata": {
  "anaconda-cloud": {},
  "kernelspec": {
   "display_name": "Python 3",
   "language": "python",
   "name": "python3"
  },
  "language_info": {
   "codemirror_mode": {
    "name": "ipython",
    "version": 3
   },
   "file_extension": ".py",
   "mimetype": "text/x-python",
   "name": "python",
   "nbconvert_exporter": "python",
   "pygments_lexer": "ipython3",
   "version": "3.5.3"
  }
 },
 "nbformat": 4,
 "nbformat_minor": 1
}
